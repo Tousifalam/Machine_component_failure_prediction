{
 "cells": [
  {
   "cell_type": "code",
   "execution_count": 1,
   "id": "e3283119",
   "metadata": {},
   "outputs": [],
   "source": [
    "import pandas as pd\n",
    "import numpy as np\n",
    "import matplotlib.pyplot as plt\n",
    "import seaborn as sns\n",
    "import warnings\n",
    "warnings.filterwarnings(\"ignore\")"
   ]
  },
  {
   "cell_type": "code",
   "execution_count": 2,
   "id": "027c230c",
   "metadata": {},
   "outputs": [],
   "source": [
    "df1 = pd.read_csv('final_dataset.csv')"
   ]
  },
  {
   "cell_type": "code",
   "execution_count": 8,
   "id": "8cf495be",
   "metadata": {},
   "outputs": [
    {
     "data": {
      "text/html": [
       "<div>\n",
       "<style scoped>\n",
       "    .dataframe tbody tr th:only-of-type {\n",
       "        vertical-align: middle;\n",
       "    }\n",
       "\n",
       "    .dataframe tbody tr th {\n",
       "        vertical-align: top;\n",
       "    }\n",
       "\n",
       "    .dataframe thead th {\n",
       "        text-align: right;\n",
       "    }\n",
       "</style>\n",
       "<table border=\"1\" class=\"dataframe\">\n",
       "  <thead>\n",
       "    <tr style=\"text-align: right;\">\n",
       "      <th></th>\n",
       "      <th>Type</th>\n",
       "      <th>air_temp</th>\n",
       "      <th>process_temp</th>\n",
       "      <th>speed</th>\n",
       "      <th>torque</th>\n",
       "      <th>tool_wear</th>\n",
       "      <th>Target</th>\n",
       "      <th>Failure Type</th>\n",
       "    </tr>\n",
       "  </thead>\n",
       "  <tbody>\n",
       "    <tr>\n",
       "      <th>0</th>\n",
       "      <td>1</td>\n",
       "      <td>298.1</td>\n",
       "      <td>308.6</td>\n",
       "      <td>1551</td>\n",
       "      <td>42.8</td>\n",
       "      <td>0</td>\n",
       "      <td>0</td>\n",
       "      <td>0</td>\n",
       "    </tr>\n",
       "    <tr>\n",
       "      <th>1</th>\n",
       "      <td>0</td>\n",
       "      <td>298.2</td>\n",
       "      <td>308.7</td>\n",
       "      <td>1408</td>\n",
       "      <td>46.3</td>\n",
       "      <td>3</td>\n",
       "      <td>0</td>\n",
       "      <td>0</td>\n",
       "    </tr>\n",
       "    <tr>\n",
       "      <th>2</th>\n",
       "      <td>0</td>\n",
       "      <td>298.1</td>\n",
       "      <td>308.5</td>\n",
       "      <td>1498</td>\n",
       "      <td>49.4</td>\n",
       "      <td>5</td>\n",
       "      <td>0</td>\n",
       "      <td>0</td>\n",
       "    </tr>\n",
       "    <tr>\n",
       "      <th>3</th>\n",
       "      <td>0</td>\n",
       "      <td>298.2</td>\n",
       "      <td>308.6</td>\n",
       "      <td>1433</td>\n",
       "      <td>39.5</td>\n",
       "      <td>7</td>\n",
       "      <td>0</td>\n",
       "      <td>0</td>\n",
       "    </tr>\n",
       "    <tr>\n",
       "      <th>4</th>\n",
       "      <td>0</td>\n",
       "      <td>298.2</td>\n",
       "      <td>308.7</td>\n",
       "      <td>1408</td>\n",
       "      <td>40.0</td>\n",
       "      <td>9</td>\n",
       "      <td>0</td>\n",
       "      <td>0</td>\n",
       "    </tr>\n",
       "    <tr>\n",
       "      <th>...</th>\n",
       "      <td>...</td>\n",
       "      <td>...</td>\n",
       "      <td>...</td>\n",
       "      <td>...</td>\n",
       "      <td>...</td>\n",
       "      <td>...</td>\n",
       "      <td>...</td>\n",
       "      <td>...</td>\n",
       "    </tr>\n",
       "    <tr>\n",
       "      <th>9968</th>\n",
       "      <td>1</td>\n",
       "      <td>298.8</td>\n",
       "      <td>308.4</td>\n",
       "      <td>1604</td>\n",
       "      <td>29.5</td>\n",
       "      <td>14</td>\n",
       "      <td>0</td>\n",
       "      <td>0</td>\n",
       "    </tr>\n",
       "    <tr>\n",
       "      <th>9969</th>\n",
       "      <td>2</td>\n",
       "      <td>298.9</td>\n",
       "      <td>308.4</td>\n",
       "      <td>1632</td>\n",
       "      <td>31.8</td>\n",
       "      <td>17</td>\n",
       "      <td>0</td>\n",
       "      <td>0</td>\n",
       "    </tr>\n",
       "    <tr>\n",
       "      <th>9970</th>\n",
       "      <td>1</td>\n",
       "      <td>299.0</td>\n",
       "      <td>308.6</td>\n",
       "      <td>1645</td>\n",
       "      <td>33.4</td>\n",
       "      <td>22</td>\n",
       "      <td>0</td>\n",
       "      <td>0</td>\n",
       "    </tr>\n",
       "    <tr>\n",
       "      <th>9971</th>\n",
       "      <td>2</td>\n",
       "      <td>299.0</td>\n",
       "      <td>308.7</td>\n",
       "      <td>1408</td>\n",
       "      <td>48.5</td>\n",
       "      <td>25</td>\n",
       "      <td>0</td>\n",
       "      <td>0</td>\n",
       "    </tr>\n",
       "    <tr>\n",
       "      <th>9972</th>\n",
       "      <td>1</td>\n",
       "      <td>299.0</td>\n",
       "      <td>308.7</td>\n",
       "      <td>1500</td>\n",
       "      <td>40.2</td>\n",
       "      <td>30</td>\n",
       "      <td>0</td>\n",
       "      <td>0</td>\n",
       "    </tr>\n",
       "  </tbody>\n",
       "</table>\n",
       "<p>9973 rows × 8 columns</p>\n",
       "</div>"
      ],
      "text/plain": [
       "      Type  air_temp  process_temp  speed  torque  tool_wear  Target  \\\n",
       "0        1     298.1         308.6   1551    42.8          0       0   \n",
       "1        0     298.2         308.7   1408    46.3          3       0   \n",
       "2        0     298.1         308.5   1498    49.4          5       0   \n",
       "3        0     298.2         308.6   1433    39.5          7       0   \n",
       "4        0     298.2         308.7   1408    40.0          9       0   \n",
       "...    ...       ...           ...    ...     ...        ...     ...   \n",
       "9968     1     298.8         308.4   1604    29.5         14       0   \n",
       "9969     2     298.9         308.4   1632    31.8         17       0   \n",
       "9970     1     299.0         308.6   1645    33.4         22       0   \n",
       "9971     2     299.0         308.7   1408    48.5         25       0   \n",
       "9972     1     299.0         308.7   1500    40.2         30       0   \n",
       "\n",
       "      Failure Type  \n",
       "0                0  \n",
       "1                0  \n",
       "2                0  \n",
       "3                0  \n",
       "4                0  \n",
       "...            ...  \n",
       "9968             0  \n",
       "9969             0  \n",
       "9970             0  \n",
       "9971             0  \n",
       "9972             0  \n",
       "\n",
       "[9973 rows x 8 columns]"
      ]
     },
     "execution_count": 8,
     "metadata": {},
     "output_type": "execute_result"
    }
   ],
   "source": [
    "df1"
   ]
  },
  {
   "cell_type": "code",
   "execution_count": 3,
   "id": "5f562c27",
   "metadata": {},
   "outputs": [],
   "source": [
    "# MODEL BUILDING PROCESS\n",
    "# splitting in dependent and independent variable"
   ]
  },
  {
   "cell_type": "code",
   "execution_count": 4,
   "id": "2f02a481",
   "metadata": {},
   "outputs": [],
   "source": [
    "# import the algorithms\n",
    "from sklearn.tree import DecisionTreeClassifier\n",
    "from sklearn.ensemble import RandomForestClassifier,BaggingClassifier\n",
    "from sklearn.svm import SVC\n",
    "from sklearn.neighbors import KNeighborsClassifier"
   ]
  },
  {
   "cell_type": "code",
   "execution_count": 5,
   "id": "ccfb9ee9",
   "metadata": {},
   "outputs": [
    {
     "data": {
      "text/html": [
       "<div>\n",
       "<style scoped>\n",
       "    .dataframe tbody tr th:only-of-type {\n",
       "        vertical-align: middle;\n",
       "    }\n",
       "\n",
       "    .dataframe tbody tr th {\n",
       "        vertical-align: top;\n",
       "    }\n",
       "\n",
       "    .dataframe thead th {\n",
       "        text-align: right;\n",
       "    }\n",
       "</style>\n",
       "<table border=\"1\" class=\"dataframe\">\n",
       "  <thead>\n",
       "    <tr style=\"text-align: right;\">\n",
       "      <th></th>\n",
       "      <th>Type</th>\n",
       "      <th>air_temp</th>\n",
       "      <th>process_temp</th>\n",
       "      <th>speed</th>\n",
       "      <th>torque</th>\n",
       "      <th>tool_wear</th>\n",
       "    </tr>\n",
       "  </thead>\n",
       "  <tbody>\n",
       "    <tr>\n",
       "      <th>0</th>\n",
       "      <td>1</td>\n",
       "      <td>298.1</td>\n",
       "      <td>308.6</td>\n",
       "      <td>1551</td>\n",
       "      <td>42.8</td>\n",
       "      <td>0</td>\n",
       "    </tr>\n",
       "    <tr>\n",
       "      <th>1</th>\n",
       "      <td>0</td>\n",
       "      <td>298.2</td>\n",
       "      <td>308.7</td>\n",
       "      <td>1408</td>\n",
       "      <td>46.3</td>\n",
       "      <td>3</td>\n",
       "    </tr>\n",
       "    <tr>\n",
       "      <th>2</th>\n",
       "      <td>0</td>\n",
       "      <td>298.1</td>\n",
       "      <td>308.5</td>\n",
       "      <td>1498</td>\n",
       "      <td>49.4</td>\n",
       "      <td>5</td>\n",
       "    </tr>\n",
       "    <tr>\n",
       "      <th>3</th>\n",
       "      <td>0</td>\n",
       "      <td>298.2</td>\n",
       "      <td>308.6</td>\n",
       "      <td>1433</td>\n",
       "      <td>39.5</td>\n",
       "      <td>7</td>\n",
       "    </tr>\n",
       "    <tr>\n",
       "      <th>4</th>\n",
       "      <td>0</td>\n",
       "      <td>298.2</td>\n",
       "      <td>308.7</td>\n",
       "      <td>1408</td>\n",
       "      <td>40.0</td>\n",
       "      <td>9</td>\n",
       "    </tr>\n",
       "  </tbody>\n",
       "</table>\n",
       "</div>"
      ],
      "text/plain": [
       "   Type  air_temp  process_temp  speed  torque  tool_wear\n",
       "0     1     298.1         308.6   1551    42.8          0\n",
       "1     0     298.2         308.7   1408    46.3          3\n",
       "2     0     298.1         308.5   1498    49.4          5\n",
       "3     0     298.2         308.6   1433    39.5          7\n",
       "4     0     298.2         308.7   1408    40.0          9"
      ]
     },
     "execution_count": 5,
     "metadata": {},
     "output_type": "execute_result"
    }
   ],
   "source": [
    "x=df1.drop([\"Target\",\"Failure Type\"],axis=1)\n",
    "x.head()"
   ]
  },
  {
   "cell_type": "code",
   "execution_count": 6,
   "id": "109da5d2",
   "metadata": {},
   "outputs": [],
   "source": [
    "# SCALING\n",
    "# As there are extreme outlier we can use Robust scaler or Min Max scaler. "
   ]
  },
  {
   "cell_type": "code",
   "execution_count": 7,
   "id": "3e10ca7c",
   "metadata": {},
   "outputs": [],
   "source": [
    "from sklearn.preprocessing import MinMaxScaler,RobustScaler"
   ]
  },
  {
   "cell_type": "code",
   "execution_count": 9,
   "id": "86777d7a",
   "metadata": {},
   "outputs": [
    {
     "data": {
      "text/html": [
       "<div>\n",
       "<style scoped>\n",
       "    .dataframe tbody tr th:only-of-type {\n",
       "        vertical-align: middle;\n",
       "    }\n",
       "\n",
       "    .dataframe tbody tr th {\n",
       "        vertical-align: top;\n",
       "    }\n",
       "\n",
       "    .dataframe thead th {\n",
       "        text-align: right;\n",
       "    }\n",
       "</style>\n",
       "<table border=\"1\" class=\"dataframe\">\n",
       "  <thead>\n",
       "    <tr style=\"text-align: right;\">\n",
       "      <th></th>\n",
       "      <th>Type</th>\n",
       "      <th>air_temp</th>\n",
       "      <th>process_temp</th>\n",
       "      <th>speed</th>\n",
       "      <th>torque</th>\n",
       "      <th>tool_wear</th>\n",
       "    </tr>\n",
       "  </thead>\n",
       "  <tbody>\n",
       "    <tr>\n",
       "      <th>0</th>\n",
       "      <td>0.5</td>\n",
       "      <td>0.304348</td>\n",
       "      <td>0.358025</td>\n",
       "      <td>0.222934</td>\n",
       "      <td>0.535714</td>\n",
       "      <td>0.000000</td>\n",
       "    </tr>\n",
       "    <tr>\n",
       "      <th>1</th>\n",
       "      <td>0.0</td>\n",
       "      <td>0.315217</td>\n",
       "      <td>0.370370</td>\n",
       "      <td>0.139697</td>\n",
       "      <td>0.583791</td>\n",
       "      <td>0.011858</td>\n",
       "    </tr>\n",
       "    <tr>\n",
       "      <th>2</th>\n",
       "      <td>0.0</td>\n",
       "      <td>0.304348</td>\n",
       "      <td>0.345679</td>\n",
       "      <td>0.192084</td>\n",
       "      <td>0.626374</td>\n",
       "      <td>0.019763</td>\n",
       "    </tr>\n",
       "    <tr>\n",
       "      <th>3</th>\n",
       "      <td>0.0</td>\n",
       "      <td>0.315217</td>\n",
       "      <td>0.358025</td>\n",
       "      <td>0.154249</td>\n",
       "      <td>0.490385</td>\n",
       "      <td>0.027668</td>\n",
       "    </tr>\n",
       "    <tr>\n",
       "      <th>4</th>\n",
       "      <td>0.0</td>\n",
       "      <td>0.315217</td>\n",
       "      <td>0.370370</td>\n",
       "      <td>0.139697</td>\n",
       "      <td>0.497253</td>\n",
       "      <td>0.035573</td>\n",
       "    </tr>\n",
       "  </tbody>\n",
       "</table>\n",
       "</div>"
      ],
      "text/plain": [
       "   Type  air_temp  process_temp     speed    torque  tool_wear\n",
       "0   0.5  0.304348      0.358025  0.222934  0.535714   0.000000\n",
       "1   0.0  0.315217      0.370370  0.139697  0.583791   0.011858\n",
       "2   0.0  0.304348      0.345679  0.192084  0.626374   0.019763\n",
       "3   0.0  0.315217      0.358025  0.154249  0.490385   0.027668\n",
       "4   0.0  0.315217      0.370370  0.139697  0.497253   0.035573"
      ]
     },
     "execution_count": 9,
     "metadata": {},
     "output_type": "execute_result"
    }
   ],
   "source": [
    "scaler=MinMaxScaler()\n",
    "x_scaled=scaler.fit_transform(x)\n",
    "x_scaled=pd.DataFrame(x_scaled,columns=x.columns)\n",
    "x_scaled.head()"
   ]
  },
  {
   "cell_type": "code",
   "execution_count": 10,
   "id": "78b7af3a",
   "metadata": {},
   "outputs": [],
   "source": [
    "# we have two dependent variable in this dataset\n",
    "# lets start the model building with Target variable"
   ]
  },
  {
   "cell_type": "code",
   "execution_count": 11,
   "id": "6da170af",
   "metadata": {},
   "outputs": [],
   "source": [
    "Y=df1[\"Target\"]"
   ]
  },
  {
   "cell_type": "code",
   "execution_count": 12,
   "id": "bf470e07",
   "metadata": {},
   "outputs": [],
   "source": [
    "# lets try Train test split approach"
   ]
  },
  {
   "cell_type": "code",
   "execution_count": 13,
   "id": "d03d2c9e",
   "metadata": {},
   "outputs": [],
   "source": [
    "from sklearn.model_selection import train_test_split\n",
    "from sklearn.metrics import accuracy_score, classification_report, precision_score, f1_score, roc_auc_score, recall_score, confusion_matrix\n",
    "from sklearn.metrics import precision_recall_fscore_support, roc_curve, precision_recall_curve"
   ]
  },
  {
   "cell_type": "code",
   "execution_count": 14,
   "id": "7879e2fd",
   "metadata": {},
   "outputs": [],
   "source": [
    "X_train,X_test,Y_train,Y_test=train_test_split(x_scaled,Y,train_size=0.80,stratify=Y,random_state=42)"
   ]
  },
  {
   "cell_type": "code",
   "execution_count": 15,
   "id": "c44eb05a",
   "metadata": {},
   "outputs": [],
   "source": [
    "dt=DecisionTreeClassifier()\n",
    "rf=RandomForestClassifier()\n",
    "bg=BaggingClassifier()\n",
    "svc=SVC() # Support vector classification\n",
    "knn=KNeighborsClassifier()"
   ]
  },
  {
   "cell_type": "code",
   "execution_count": 16,
   "id": "75c18a76",
   "metadata": {},
   "outputs": [],
   "source": [
    "dt.fit(X_train,Y_train)\n",
    "y_pred = dt.predict(X_test)"
   ]
  },
  {
   "cell_type": "code",
   "execution_count": 17,
   "id": "a1ac5ec7",
   "metadata": {},
   "outputs": [
    {
     "data": {
      "text/plain": [
       "<AxesSubplot:>"
      ]
     },
     "execution_count": 17,
     "metadata": {},
     "output_type": "execute_result"
    },
    {
     "data": {
      "image/png": "[encoded data removed]",
      "text/plain": [
       "<Figure size 1000x600 with 2 Axes>"
      ]
     },
     "metadata": {},
     "output_type": "display_data"
    }
   ],
   "source": [
    "cm=confusion_matrix(Y_test,y_pred)\n",
    "plt.figure(figsize=(10,6))\n",
    "sns.heatmap(cm, annot=True)"
   ]
  },
  {
   "cell_type": "code",
   "execution_count": 18,
   "id": "16f7e5d0",
   "metadata": {},
   "outputs": [
    {
     "name": "stdout",
     "output_type": "stream",
     "text": [
      "Accuracy score: 0.9784461152882206\n",
      "classification report \n",
      "               precision    recall  f1-score   support\n",
      "\n",
      "           0       0.99      0.99      0.99      1929\n",
      "           1       0.65      0.76      0.70        66\n",
      "\n",
      "    accuracy                           0.98      1995\n",
      "   macro avg       0.82      0.87      0.84      1995\n",
      "weighted avg       0.98      0.98      0.98      1995\n",
      "\n",
      "roc_auc_score- 0.8717894339978322\n",
      "MACRO Precision_recall_F1- (0.8205043132050431, 0.8717894339978322, 0.8440615791798531, None)\n"
     ]
    }
   ],
   "source": [
    "print('Accuracy score:',accuracy_score(Y_test,y_pred))\n",
    "print('classification report','\\n',classification_report(Y_test,y_pred))\n",
    "print('roc_auc_score-',roc_auc_score(Y_test,y_pred))\n",
    "print('MACRO Precision_recall_F1-',precision_recall_fscore_support(Y_test,y_pred, average='macro'))"
   ]
  },
  {
   "cell_type": "code",
   "execution_count": 19,
   "id": "24e69a95",
   "metadata": {
    "scrolled": true
   },
   "outputs": [
    {
     "name": "stdout",
     "output_type": "stream",
     "text": [
      "              precision    recall  f1-score   support\n",
      "\n",
      "           0       0.99      1.00      0.99      1929\n",
      "           1       0.91      0.62      0.74        66\n",
      "\n",
      "    accuracy                           0.99      1995\n",
      "   macro avg       0.95      0.81      0.87      1995\n",
      "weighted avg       0.98      0.99      0.98      1995\n",
      "\n"
     ]
    }
   ],
   "source": [
    "rf.fit(X_train,Y_train)\n",
    "y_pred_rf=rf.predict(X_test)\n",
    "print(classification_report(Y_test,y_pred_rf))"
   ]
  },
  {
   "cell_type": "code",
   "execution_count": 20,
   "id": "003d82a0",
   "metadata": {},
   "outputs": [
    {
     "name": "stdout",
     "output_type": "stream",
     "text": [
      "              precision    recall  f1-score   support\n",
      "\n",
      "           0       0.99      1.00      0.99      1929\n",
      "           1       0.94      0.67      0.78        66\n",
      "\n",
      "    accuracy                           0.99      1995\n",
      "   macro avg       0.96      0.83      0.89      1995\n",
      "weighted avg       0.99      0.99      0.99      1995\n",
      "\n"
     ]
    }
   ],
   "source": [
    "bg.fit(X_train,Y_train)\n",
    "y_pred_bg=bg.predict(X_test)\n",
    "print(classification_report(Y_test,y_pred_bg))"
   ]
  },
  {
   "cell_type": "code",
   "execution_count": 21,
   "id": "9d68dfa8",
   "metadata": {},
   "outputs": [
    {
     "name": "stdout",
     "output_type": "stream",
     "text": [
      "              precision    recall  f1-score   support\n",
      "\n",
      "           0       0.97      1.00      0.99      1929\n",
      "           1       1.00      0.14      0.24        66\n",
      "\n",
      "    accuracy                           0.97      1995\n",
      "   macro avg       0.99      0.57      0.61      1995\n",
      "weighted avg       0.97      0.97      0.96      1995\n",
      "\n"
     ]
    }
   ],
   "source": [
    "svc.fit(X_train,Y_train)\n",
    "y_pred_svc=svc.predict(X_test)\n",
    "print(classification_report(Y_test,y_pred_svc))"
   ]
  },
  {
   "cell_type": "code",
   "execution_count": 22,
   "id": "85f2996e",
   "metadata": {},
   "outputs": [
    {
     "name": "stdout",
     "output_type": "stream",
     "text": [
      "              precision    recall  f1-score   support\n",
      "\n",
      "           0       0.98      1.00      0.99      1929\n",
      "           1       0.75      0.27      0.40        66\n",
      "\n",
      "    accuracy                           0.97      1995\n",
      "   macro avg       0.86      0.63      0.69      1995\n",
      "weighted avg       0.97      0.97      0.97      1995\n",
      "\n"
     ]
    }
   ],
   "source": [
    "knn.fit(X_train,Y_train)\n",
    "y_pred_knn=knn.predict(X_test)\n",
    "print(classification_report(Y_test,y_pred_knn))"
   ]
  },
  {
   "cell_type": "code",
   "execution_count": 24,
   "id": "d97efbf8",
   "metadata": {},
   "outputs": [],
   "source": [
    "# Random forest and bagging classifier performed better then others. "
   ]
  },
  {
   "cell_type": "code",
   "execution_count": 25,
   "id": "e02ca5e9",
   "metadata": {},
   "outputs": [],
   "source": [
    "# But the data is imbalanced, lets balanced the data."
   ]
  },
  {
   "cell_type": "code",
   "execution_count": 26,
   "id": "60ae3495",
   "metadata": {},
   "outputs": [],
   "source": [
    "from imblearn.over_sampling import SMOTE, ADASYN, RandomOverSampler, BorderlineSMOTE, SVMSMOTE, KMeansSMOTE"
   ]
  },
  {
   "cell_type": "code",
   "execution_count": 27,
   "id": "577e9680",
   "metadata": {},
   "outputs": [],
   "source": [
    "smote = SMOTE()\n",
    "adasyn=ADASYN()\n",
    "over=RandomOverSampler()\n",
    "border=BorderlineSMOTE()"
   ]
  },
  {
   "cell_type": "code",
   "execution_count": 28,
   "id": "08730ee7",
   "metadata": {},
   "outputs": [
    {
     "name": "stdout",
     "output_type": "stream",
     "text": [
      "========================================================\n",
      "AFTER data-Balancing Performance:- RandomForestClassifier()\n",
      "========================================================\n",
      "RandomForestClassifier() using technique:-  SMOTE()\n",
      "========================================================\n",
      "confusion matrix \n",
      " [[1876   53]\n",
      " [  14   52]]\n",
      "=====================\n",
      "Accuracy \n",
      " 0.9664160401002506\n",
      "=====================\n",
      "Classification Report \n",
      "               precision    recall  f1-score   support\n",
      "\n",
      "           0       0.99      0.97      0.98      1929\n",
      "           1       0.50      0.79      0.61        66\n",
      "\n",
      "    accuracy                           0.97      1995\n",
      "   macro avg       0.74      0.88      0.80      1995\n",
      "weighted avg       0.98      0.97      0.97      1995\n",
      "\n",
      "=====================\n",
      "ROC_AUC \n",
      " 0.8802017060181913\n",
      "=====================\n",
      "MACRO Precision_recall_F1 \n",
      " (0.7439153439153439, 0.8802017060181913, 0.7953216374269005, None)\n",
      "========================================================\n",
      "Conclude one balaning method\n",
      "========================================================\n",
      "========================================================\n",
      "RandomForestClassifier() using technique:-  BorderlineSMOTE()\n",
      "========================================================\n",
      "confusion matrix \n",
      " [[1890   39]\n",
      " [  12   54]]\n",
      "=====================\n",
      "Accuracy \n",
      " 0.9744360902255639\n",
      "=====================\n",
      "Classification Report \n",
      "               precision    recall  f1-score   support\n",
      "\n",
      "           0       0.99      0.98      0.99      1929\n",
      "           1       0.58      0.82      0.68        66\n",
      "\n",
      "    accuracy                           0.97      1995\n",
      "   macro avg       0.79      0.90      0.83      1995\n",
      "weighted avg       0.98      0.97      0.98      1995\n",
      "\n",
      "=====================\n",
      "ROC_AUC \n",
      " 0.8989820443941752\n",
      "=====================\n",
      "MACRO Precision_recall_F1 \n",
      " (0.7871680065126692, 0.8989820443941751, 0.8329664159808514, None)\n",
      "========================================================\n",
      "Conclude one balaning method\n",
      "========================================================\n",
      "========================================================\n",
      "RandomForestClassifier() using technique:-  ADASYN()\n",
      "========================================================\n",
      "confusion matrix \n",
      " [[1872   57]\n",
      " [  11   55]]\n",
      "=====================\n",
      "Accuracy \n",
      " 0.9659147869674185\n",
      "=====================\n",
      "Classification Report \n",
      "               precision    recall  f1-score   support\n",
      "\n",
      "           0       0.99      0.97      0.98      1929\n",
      "           1       0.49      0.83      0.62        66\n",
      "\n",
      "    accuracy                           0.97      1995\n",
      "   macro avg       0.74      0.90      0.80      1995\n",
      "weighted avg       0.98      0.97      0.97      1995\n",
      "\n",
      "=====================\n",
      "ROC_AUC \n",
      " 0.9018921721099016\n",
      "=====================\n",
      "MACRO Precision_recall_F1 \n",
      " (0.7426148433351035, 0.9018921721099016, 0.8000695615265807, None)\n",
      "========================================================\n",
      "Conclude one balaning method\n",
      "========================================================\n",
      "========================================================\n",
      "========================================================\n",
      "AFTER data-Balancing Performance:- BaggingClassifier()\n",
      "========================================================\n",
      "BaggingClassifier() using technique:-  SMOTE()\n",
      "========================================================\n",
      "confusion matrix \n",
      " [[1881   48]\n",
      " [  14   52]]\n",
      "=====================\n",
      "Accuracy \n",
      " 0.9689223057644111\n",
      "=====================\n",
      "Classification Report \n",
      "               precision    recall  f1-score   support\n",
      "\n",
      "           0       0.99      0.98      0.98      1929\n",
      "           1       0.52      0.79      0.63        66\n",
      "\n",
      "    accuracy                           0.97      1995\n",
      "   macro avg       0.76      0.88      0.81      1995\n",
      "weighted avg       0.98      0.97      0.97      1995\n",
      "\n",
      "=====================\n",
      "ROC_AUC \n",
      " 0.8814977143126443\n",
      "=====================\n",
      "MACRO Precision_recall_F1 \n",
      " (0.7563060686015831, 0.8814977143126443, 0.8051463174875233, None)\n",
      "========================================================\n",
      "Conclude one balaning method\n",
      "========================================================\n",
      "========================================================\n",
      "BaggingClassifier() using technique:-  BorderlineSMOTE()\n",
      "========================================================\n",
      "confusion matrix \n",
      " [[1897   32]\n",
      " [  14   52]]\n",
      "=====================\n",
      "Accuracy \n",
      " 0.9769423558897243\n",
      "=====================\n",
      "Classification Report \n",
      "               precision    recall  f1-score   support\n",
      "\n",
      "           0       0.99      0.98      0.99      1929\n",
      "           1       0.62      0.79      0.69        66\n",
      "\n",
      "    accuracy                           0.98      1995\n",
      "   macro avg       0.81      0.89      0.84      1995\n",
      "weighted avg       0.98      0.98      0.98      1995\n",
      "\n",
      "=====================\n",
      "ROC_AUC \n",
      " 0.8856449408548942\n",
      "=====================\n",
      "MACRO Precision_recall_F1 \n",
      " (0.8058608058608059, 0.8856449408548942, 0.8406770833333335, None)\n",
      "========================================================\n",
      "Conclude one balaning method\n",
      "========================================================\n",
      "========================================================\n",
      "BaggingClassifier() using technique:-  ADASYN()\n",
      "========================================================\n",
      "confusion matrix \n",
      " [[1880   49]\n",
      " [  13   53]]\n",
      "=====================\n",
      "Accuracy \n",
      " 0.9689223057644111\n",
      "=====================\n",
      "Classification Report \n",
      "               precision    recall  f1-score   support\n",
      "\n",
      "           0       0.99      0.97      0.98      1929\n",
      "           1       0.52      0.80      0.63        66\n",
      "\n",
      "    accuracy                           0.97      1995\n",
      "   macro avg       0.76      0.89      0.81      1995\n",
      "weighted avg       0.98      0.97      0.97      1995\n",
      "\n",
      "=====================\n",
      "ROC_AUC \n",
      " 0.8888142702295112\n",
      "=====================\n",
      "MACRO Precision_recall_F1 \n",
      " (0.7563702184518816, 0.8888142702295112, 0.8073652537938252, None)\n",
      "========================================================\n",
      "Conclude one balaning method\n",
      "========================================================\n",
      "========================================================\n"
     ]
    }
   ],
   "source": [
    "for model in[rf,bg]:\n",
    "    print(\"=======\"*8)\n",
    "    print(\"AFTER data-Balancing Performance:-\",model)\n",
    "    print(\"=======\"*8)\n",
    "    for balancer in[smote,border,adasyn]:\n",
    "        X_train_1, Y_train_1 = balancer.fit_resample(X_train, Y_train)\n",
    "        abc=model.fit(X_train_1,Y_train_1)\n",
    "        y_pred=abc.predict(X_test)\n",
    "        cm=confusion_matrix(Y_test,y_pred)\n",
    "        AS=accuracy_score(Y_test,y_pred)\n",
    "        CR=classification_report(Y_test,y_pred)\n",
    "        ROC=roc_auc_score(Y_test,y_pred)\n",
    "        PRFS=precision_recall_fscore_support(Y_test,y_pred, average='macro')\n",
    "        \n",
    "        print(model,\"using technique:- \",balancer)\n",
    "        #print(\"=======\"*6) \n",
    "        print(\"=======\"*8) \n",
    "        # print of metrics\n",
    "        print(\"confusion matrix \\n\",cm) \n",
    "        print(\"=======\"*3)\n",
    "        print(\"Accuracy \\n\",AS) \n",
    "        print(\"=======\"*3)\n",
    "        print(\"Classification Report \\n\",CR) \n",
    "        print(\"=======\"*3)\n",
    "        print(\"ROC_AUC \\n\",ROC) \n",
    "        print(\"=======\"*3)\n",
    "        print(\"MACRO Precision_recall_F1 \\n\",PRFS)\n",
    "        print(\"=======\"*8)\n",
    "        print(\"Conclude one balaning method\")\n",
    "        print(\"=======\"*8)\n",
    "        \n",
    "        print(\"=======\"*8)"
   ]
  },
  {
   "cell_type": "code",
   "execution_count": 29,
   "id": "64392d42",
   "metadata": {},
   "outputs": [],
   "source": [
    "# Till now we observed Randon forest and bagging classifier with smote technique gives the best result."
   ]
  },
  {
   "cell_type": "code",
   "execution_count": null,
   "id": "ea34cb23",
   "metadata": {},
   "outputs": [],
   "source": [
    "# Lets verify using StratifiedShuffleSplit"
   ]
  },
  {
   "cell_type": "code",
   "execution_count": 30,
   "id": "3b0d1e60",
   "metadata": {},
   "outputs": [],
   "source": [
    "from sklearn.model_selection import StratifiedShuffleSplit,cross_val_score,cross_val_predict,cross_validate"
   ]
  },
  {
   "cell_type": "code",
   "execution_count": 31,
   "id": "a619ed51",
   "metadata": {},
   "outputs": [],
   "source": [
    "# lets try using StratifiedShuffleSplit and cross_validate to analyze the performance of algorithem "
   ]
  },
  {
   "cell_type": "code",
   "execution_count": 32,
   "id": "5f4e621e",
   "metadata": {},
   "outputs": [
    {
     "name": "stdout",
     "output_type": "stream",
     "text": [
      "===================================\n",
      "Performance of RandomForestClassifier()\n",
      "===================================\n",
      "ROC AUC 0.9765\n",
      "F1 MACRO 0.8569\n",
      "PRECISION MACRO 0.9451\n",
      "RECALL MACRO 0.8001\n",
      "===================================\n",
      "Performance of BaggingClassifier()\n",
      "===================================\n",
      "ROC AUC 0.9455\n",
      "F1 MACRO 0.8718\n",
      "PRECISION MACRO 0.9352\n",
      "RECALL MACRO 0.8268\n"
     ]
    }
   ],
   "source": [
    "for model in[rf,bg]:\n",
    "    print(\"=======\"*5)\n",
    "    print(\"Performance of\",model)\n",
    "    print(\"=======\"*5)\n",
    "    cv=StratifiedShuffleSplit(n_splits=10,test_size=0.25,random_state=42)\n",
    "    scoring=[\"roc_auc\",\"f1_macro\",\"precision_macro\",\"recall_macro\"]\n",
    "    cross_val_scores=cross_validate(model,x_scaled,Y,scoring=scoring,cv=cv)\n",
    "    roc_auc_test_cv=round(cross_val_scores[\"test_roc_auc\"].mean(),4)\n",
    "    f1_test_cv=round(cross_val_scores[\"test_f1_macro\"].mean(),4)\n",
    "    precisio_test_cv=round(cross_val_scores[\"test_precision_macro\"].mean(),4)\n",
    "    Recall_test_cv=round(cross_val_scores[\"test_recall_macro\"].mean(),4)\n",
    "    \n",
    "    # print of metrics\n",
    "    print(\"ROC AUC\",roc_auc_test_cv) \n",
    "    print(\"F1 MACRO\",f1_test_cv) \n",
    "    print(\"PRECISION MACRO\",precisio_test_cv) \n",
    "    print(\"RECALL MACRO\",Recall_test_cv) "
   ]
  },
  {
   "cell_type": "code",
   "execution_count": null,
   "id": "7ec3c1b2",
   "metadata": {},
   "outputs": [],
   "source": [
    "\"\"\"\n",
    "All results are using cross validation:\n",
    "\n",
    "Bagging is the best overall model, with highest f1 score and second highest roc auc.\n",
    "Random Forest has a slightly highest roc auc than Balanced Bagging, \n",
    "but its f1 score is lower.\n",
    "\"\"\""
   ]
  },
  {
   "cell_type": "code",
   "execution_count": 33,
   "id": "ce19001d",
   "metadata": {},
   "outputs": [],
   "source": [
    "# Conclusion- The Bagging classifier gives the best result with smote technique "
   ]
  },
  {
   "cell_type": "code",
   "execution_count": 34,
   "id": "f1f81ccf",
   "metadata": {},
   "outputs": [],
   "source": [
    "# Lets train the final model using bagging classifier with smote technique on complete data set."
   ]
  },
  {
   "cell_type": "code",
   "execution_count": 35,
   "id": "6d43a20c",
   "metadata": {},
   "outputs": [],
   "source": [
    "smote = SMOTE()\n",
    "bg=BaggingClassifier()"
   ]
  },
  {
   "cell_type": "code",
   "execution_count": 36,
   "id": "39d879f3",
   "metadata": {},
   "outputs": [],
   "source": [
    "X_features, Y_target = smote.fit_resample(x_scaled, Y)\n",
    "component_failure_prediction = bg.fit(X_features,Y_target)"
   ]
  },
  {
   "cell_type": "code",
   "execution_count": 37,
   "id": "21ef1632",
   "metadata": {},
   "outputs": [],
   "source": [
    "import pickle\n",
    "# Save the model to a file\n",
    "with open('failure_prediction_model.pkl', 'wb') as file:\n",
    "    pickle.dump(component_failure_prediction, file)"
   ]
  },
  {
   "cell_type": "code",
   "execution_count": null,
   "id": "a49c401a",
   "metadata": {},
   "outputs": [],
   "source": []
  }
 ],
 "metadata": {
  "kernelspec": {
   "display_name": "Python 3 (ipykernel)",
   "language": "python",
   "name": "python3"
  },
  "language_info": {
   "codemirror_mode": {
    "name": "ipython",
    "version": 3
   },
   "file_extension": ".py",
   "mimetype": "text/x-python",
   "name": "python",
   "nbconvert_exporter": "python",
   "pygments_lexer": "ipython3",
   "version": "3.9.13"
  }
 },
 "nbformat": 4,
 "nbformat_minor": 5
}
